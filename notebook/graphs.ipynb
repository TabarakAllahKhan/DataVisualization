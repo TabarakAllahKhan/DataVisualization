{
 "cells": [
  {
   "cell_type": "markdown",
   "id": "b5f83276",
   "metadata": {},
   "source": [
    "## About:\n",
    "\n",
    "This NoteBook wil cover the different types of graphs we make in datavisualizations such as barplot , histogram , web graph and many more."
   ]
  },
  {
   "cell_type": "markdown",
   "id": "5f1544f6",
   "metadata": {},
   "source": [
    "## Importing Libraries"
   ]
  },
  {
   "cell_type": "code",
   "execution_count": 1,
   "id": "cdb04116",
   "metadata": {},
   "outputs": [],
   "source": [
    "import seaborn as sns\n",
    "import matplotlib.pyplot as plt\n",
    "import plotly.express as ex"
   ]
  },
  {
   "cell_type": "code",
   "execution_count": null,
   "id": "17c7d526",
   "metadata": {},
   "outputs": [],
   "source": []
  }
 ],
 "metadata": {
  "kernelspec": {
   "display_name": "venv",
   "language": "python",
   "name": "python3"
  },
  "language_info": {
   "codemirror_mode": {
    "name": "ipython",
    "version": 3
   },
   "file_extension": ".py",
   "mimetype": "text/x-python",
   "name": "python",
   "nbconvert_exporter": "python",
   "pygments_lexer": "ipython3",
   "version": "3.13.1"
  }
 },
 "nbformat": 4,
 "nbformat_minor": 5
}
